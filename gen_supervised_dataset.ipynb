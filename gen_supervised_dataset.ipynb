{
 "cells": [
  {
   "cell_type": "code",
   "execution_count": 63,
   "metadata": {
    "collapsed": true
   },
   "outputs": [],
   "source": [
    "import networkx as nx\n",
    "from gym_kidney import _solver\n",
    "from gym.utils import seeding\n",
    "from gym_kidney import models\n",
    "import numpy as np"
   ]
  },
  {
   "cell_type": "code",
   "execution_count": 2,
   "metadata": {
    "collapsed": true
   },
   "outputs": [],
   "source": [
    "%matplotlib inline\n",
    "import matplotlib.pyplot as plt"
   ]
  },
  {
   "cell_type": "markdown",
   "metadata": {},
   "source": [
    "First: generate graphs somehow, according to the models.\n",
    "\n",
    "One dumb idea, give some a long number of ticks and others a short number of ticks."
   ]
  },
  {
   "cell_type": "code",
   "execution_count": 59,
   "metadata": {
    "collapsed": true
   },
   "outputs": [],
   "source": [
    "def _default_model():\n",
    "    M = 128\n",
    "    K = 1024\n",
    "    K = 580\n",
    "    P = 0.05\n",
    "    P_A = 0.05\n",
    "    LEN = 3*K\n",
    "    MODEL = models.HomogeneousModel(M, K, P, P_A, LEN)\n",
    "    return MODEL\n",
    "\n",
    "DEFAULT_MODEL = _default_model()\n",
    "\n",
    "rng, seed = seeding.np_random(1)\n"
   ]
  },
  {
   "cell_type": "code",
   "execution_count": 6,
   "metadata": {
    "collapsed": true
   },
   "outputs": [],
   "source": [
    "def gen_random_graph(model, rng, n_steps=500):\n",
    "    G = nx.DiGraph()\n",
    "    for i in range(n_steps):\n",
    "        G = model.arrive(G,rng)\n",
    "    return G"
   ]
  },
  {
   "cell_type": "code",
   "execution_count": null,
   "metadata": {
    "collapsed": true
   },
   "outputs": [],
   "source": []
  },
  {
   "cell_type": "code",
   "execution_count": 7,
   "metadata": {
    "collapsed": true
   },
   "outputs": [],
   "source": [
    "def relabel(G):\n",
    "    n_dd, n_ndd = 0, 0\n",
    "    d_dd, d_ndd = {}, {}\n",
    "\n",
    "    for u in G.nodes():\n",
    "        if G.node[u][\"ndd\"]:\n",
    "            d_ndd[u] = n_ndd\n",
    "            n_ndd += 1\n",
    "        else:\n",
    "            d_dd[u] = n_dd\n",
    "            n_dd += 1\n",
    "\n",
    "    return n_dd, n_ndd, d_dd, d_ndd\n",
    "\n",
    "def nx_to_ks(G):\n",
    "    n_dd, n_ndd, d_dd, d_ndd = relabel(G)\n",
    "\n",
    "    dd = _solver.Digraph(n_dd)\n",
    "    for u, v, d in G.edges(data = True):\n",
    "        if not G.node[u][\"ndd\"]:\n",
    "            dd.add_edge(\n",
    "                d[\"weight\"] if (\"weight\" in d) else 1.0,\n",
    "                dd.vs[d_dd[u]],\n",
    "                dd.vs[d_dd[v]])\n",
    "\n",
    "    ndds = [_solver.kidney_ndds.Ndd() for _ in range(n_ndd)]\n",
    "    for u, v, d in G.edges(data = True):\n",
    "        if G.node[u][\"ndd\"]:\n",
    "            edge = _solver.kidney_ndds.NddEdge(\n",
    "                dd.vs[d_dd[v]],\n",
    "                d[\"weight\"] if (\"weight\" in d) else 1.0)\n",
    "            ndds[d_ndd[u]].add_edge(edge)\n",
    "\n",
    "    return dd, ndds\n"
   ]
  },
  {
   "cell_type": "code",
   "execution_count": 17,
   "metadata": {
    "collapsed": true
   },
   "outputs": [],
   "source": [
    "def solve_graph(G, cycle_cap=3, chain_cap=3):\n",
    "    dd, ndd = nx_to_ks(G)\n",
    "    cfg = _solver.kidney_ip.OptConfig(\n",
    "            dd,\n",
    "            ndd,\n",
    "            cycle_cap,\n",
    "            chain_cap)\n",
    "    soln  = _solver.solve_kep(cfg, \"picef\")\n",
    "    rew_cycles = sum(map(lambda x: len(x), soln.cycles))\n",
    "    rew_chains = sum(map(lambda x: len(x.vtx_indices), soln.chains))\n",
    "    reward = rew_cycles + rew_chains\n",
    "    \n",
    "    return reward"
   ]
  },
  {
   "cell_type": "code",
   "execution_count": 41,
   "metadata": {
    "collapsed": true
   },
   "outputs": [],
   "source": [
    "def make_graph_score_pair(rng):\n",
    "    gr = gen_random_graph(MODEL, rng)\n",
    "    score = solve_graph(gr)\n",
    "    return (gr, score)"
   ]
  },
  {
   "cell_type": "code",
   "execution_count": 44,
   "metadata": {
    "collapsed": true
   },
   "outputs": [],
   "source": [
    "dataset = [make_graph_score_pair(rng) for _ in range(100)]"
   ]
  },
  {
   "cell_type": "code",
   "execution_count": 69,
   "metadata": {
    "collapsed": true
   },
   "outputs": [],
   "source": [
    "def adjmat(gr):\n",
    "    return nx.adjacency_matrix(gr).toarray().astype('float32')"
   ]
  },
  {
   "cell_type": "code",
   "execution_count": 75,
   "metadata": {
    "collapsed": true
   },
   "outputs": [],
   "source": [
    "def zero_padded_adjmat(graph, size):\n",
    "    unpadded = adjmat(graph)\n",
    "    padded = np.zeros((size, size))\n",
    "    padded[0:unpadded.shape[0], 0:unpadded.shape[1]] = unpadded\n",
    "    return padded\n",
    "    "
   ]
  },
  {
   "cell_type": "markdown",
   "metadata": {},
   "source": [
    "next step: tf really dumb mlp model"
   ]
  },
  {
   "cell_type": "code",
   "execution_count": 97,
   "metadata": {},
   "outputs": [],
   "source": [
    "import tensorflow as tf\n",
    "import tensorflow.keras\n",
    "from tensorflow.keras.layers import Input, Dense, Dropout, Flatten, MaxPooling2D, Conv2D\n",
    "from tensorflow.keras.models import Model"
   ]
  },
  {
   "cell_type": "code",
   "execution_count": 110,
   "metadata": {},
   "outputs": [],
   "source": [
    "def mlp_model(input_size=100):\n",
    "    input_im = Input(shape=(input_size, input_size))\n",
    "    flat = Flatten()(input_im)\n",
    "    l1 = Dense(100, activation='relu')(flat)\n",
    "    l2 = Dense(20, activation='relu')(l1)\n",
    "    output = Dense(1, activation='relu')(l2)\n",
    "    mlp_model = Model(input_im, output)\n",
    "    return mlp_model"
   ]
  },
  {
   "cell_type": "code",
   "execution_count": 130,
   "metadata": {},
   "outputs": [],
   "source": [
    "def cnn_model(input_size=100):\n",
    "    input_im = Input(shape=(input_size, input_size,1))\n",
    "    layer = Conv2D(32, (3, 3), activation='relu', padding='same')(input_im)\n",
    "    layer = MaxPooling2D((2, 2), padding='same')(layer)\n",
    "    layer = Conv2D(16, (3, 3), activation='relu', padding='same')(layer)\n",
    "    layer = MaxPooling2D((2, 2), padding='same')(layer)\n",
    "    layer = Conv2D(16, (3, 3), activation='relu', padding='same')(layer)\n",
    "    layer = MaxPooling2D((2, 2), padding='same')(layer)\n",
    "    layer = Flatten()(layer)\n",
    "    layer = Dense(32, activation='relu')(layer)\n",
    "    output = Dense(16, activation='relu')(layer)\n",
    "    cnn_model = Model(input_im, output)\n",
    "    return cnn_model"
   ]
  },
  {
   "cell_type": "code",
   "execution_count": 131,
   "metadata": {},
   "outputs": [
    {
     "name": "stdout",
     "output_type": "stream",
     "text": [
      "_________________________________________________________________\n",
      "Layer (type)                 Output Shape              Param #   \n",
      "=================================================================\n",
      "input_21 (InputLayer)        (None, 100, 100, 1)       0         \n",
      "_________________________________________________________________\n",
      "conv2d_30 (Conv2D)           (None, 100, 100, 32)      320       \n",
      "_________________________________________________________________\n",
      "max_pooling2d_21 (MaxPooling (None, 50, 50, 32)        0         \n",
      "_________________________________________________________________\n",
      "conv2d_31 (Conv2D)           (None, 50, 50, 16)        4624      \n",
      "_________________________________________________________________\n",
      "max_pooling2d_22 (MaxPooling (None, 25, 25, 16)        0         \n",
      "_________________________________________________________________\n",
      "conv2d_32 (Conv2D)           (None, 25, 25, 16)        2320      \n",
      "_________________________________________________________________\n",
      "max_pooling2d_23 (MaxPooling (None, 13, 13, 16)        0         \n",
      "_________________________________________________________________\n",
      "flatten_13 (Flatten)         (None, 2704)              0         \n",
      "_________________________________________________________________\n",
      "dense_24 (Dense)             (None, 32)                86560     \n",
      "_________________________________________________________________\n",
      "dense_25 (Dense)             (None, 16)                528       \n",
      "=================================================================\n",
      "Total params: 94,352\n",
      "Trainable params: 94,352\n",
      "Non-trainable params: 0\n",
      "_________________________________________________________________\n"
     ]
    }
   ],
   "source": [
    "cnn_model().summary()"
   ]
  },
  {
   "cell_type": "code",
   "execution_count": 132,
   "metadata": {},
   "outputs": [
    {
     "name": "stdout",
     "output_type": "stream",
     "text": [
      "_________________________________________________________________\n",
      "Layer (type)                 Output Shape              Param #   \n",
      "=================================================================\n",
      "input_22 (InputLayer)        (None, 100, 100)          0         \n",
      "_________________________________________________________________\n",
      "flatten_14 (Flatten)         (None, 10000)             0         \n",
      "_________________________________________________________________\n",
      "dense_26 (Dense)             (None, 100)               1000100   \n",
      "_________________________________________________________________\n",
      "dense_27 (Dense)             (None, 20)                2020      \n",
      "_________________________________________________________________\n",
      "dense_28 (Dense)             (None, 1)                 21        \n",
      "=================================================================\n",
      "Total params: 1,002,141\n",
      "Trainable params: 1,002,141\n",
      "Non-trainable params: 0\n",
      "_________________________________________________________________\n"
     ]
    }
   ],
   "source": [
    "mlp_model().summary()"
   ]
  },
  {
   "cell_type": "code",
   "execution_count": null,
   "metadata": {
    "collapsed": true
   },
   "outputs": [],
   "source": []
  }
 ],
 "metadata": {
  "kernelspec": {
   "display_name": "Python 3",
   "language": "python",
   "name": "python3"
  },
  "language_info": {
   "codemirror_mode": {
    "name": "ipython",
    "version": 3
   },
   "file_extension": ".py",
   "mimetype": "text/x-python",
   "name": "python",
   "nbconvert_exporter": "python",
   "pygments_lexer": "ipython3",
   "version": "3.6.3"
  }
 },
 "nbformat": 4,
 "nbformat_minor": 2
}
