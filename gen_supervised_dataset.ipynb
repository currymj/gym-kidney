{
 "cells": [
  {
   "cell_type": "code",
   "execution_count": 63,
   "metadata": {
    "collapsed": true
   },
   "outputs": [],
   "source": [
    "import networkx as nx\n",
    "from gym_kidney import _solver\n",
    "from gym.utils import seeding\n",
    "from gym_kidney import models\n",
    "import numpy as np"
   ]
  },
  {
   "cell_type": "code",
   "execution_count": 2,
   "metadata": {
    "collapsed": true
   },
   "outputs": [],
   "source": [
    "%matplotlib inline\n",
    "import matplotlib.pyplot as plt"
   ]
  },
  {
   "cell_type": "markdown",
   "metadata": {},
   "source": [
    "First: generate graphs somehow, according to the models.\n",
    "\n",
    "One dumb idea, give some a long number of ticks and others a short number of ticks."
   ]
  },
  {
   "cell_type": "code",
   "execution_count": 59,
   "metadata": {
    "collapsed": true
   },
   "outputs": [],
   "source": [
    "def _default_model():\n",
    "    M = 128\n",
    "    K = 1024\n",
    "    K = 580\n",
    "    P = 0.05\n",
    "    P_A = 0.05\n",
    "    LEN = 3*K\n",
    "    MODEL = models.HomogeneousModel(M, K, P, P_A, LEN)\n",
    "    return MODEL\n",
    "\n",
    "DEFAULT_MODEL = _default_model()\n",
    "\n",
    "rng, seed = seeding.np_random(1)\n"
   ]
  },
  {
   "cell_type": "code",
   "execution_count": 6,
   "metadata": {
    "collapsed": true
   },
   "outputs": [],
   "source": [
    "def gen_random_graph(model, rng, n_steps=500):\n",
    "    G = nx.DiGraph()\n",
    "    for i in range(n_steps):\n",
    "        G = model.arrive(G,rng)\n",
    "    return G"
   ]
  },
  {
   "cell_type": "code",
   "execution_count": null,
   "metadata": {
    "collapsed": true
   },
   "outputs": [],
   "source": []
  },
  {
   "cell_type": "code",
   "execution_count": 7,
   "metadata": {
    "collapsed": true
   },
   "outputs": [],
   "source": [
    "def relabel(G):\n",
    "    n_dd, n_ndd = 0, 0\n",
    "    d_dd, d_ndd = {}, {}\n",
    "\n",
    "    for u in G.nodes():\n",
    "        if G.node[u][\"ndd\"]:\n",
    "            d_ndd[u] = n_ndd\n",
    "            n_ndd += 1\n",
    "        else:\n",
    "            d_dd[u] = n_dd\n",
    "            n_dd += 1\n",
    "\n",
    "    return n_dd, n_ndd, d_dd, d_ndd\n",
    "\n",
    "def nx_to_ks(G):\n",
    "    n_dd, n_ndd, d_dd, d_ndd = relabel(G)\n",
    "\n",
    "    dd = _solver.Digraph(n_dd)\n",
    "    for u, v, d in G.edges(data = True):\n",
    "        if not G.node[u][\"ndd\"]:\n",
    "            dd.add_edge(\n",
    "                d[\"weight\"] if (\"weight\" in d) else 1.0,\n",
    "                dd.vs[d_dd[u]],\n",
    "                dd.vs[d_dd[v]])\n",
    "\n",
    "    ndds = [_solver.kidney_ndds.Ndd() for _ in range(n_ndd)]\n",
    "    for u, v, d in G.edges(data = True):\n",
    "        if G.node[u][\"ndd\"]:\n",
    "            edge = _solver.kidney_ndds.NddEdge(\n",
    "                dd.vs[d_dd[v]],\n",
    "                d[\"weight\"] if (\"weight\" in d) else 1.0)\n",
    "            ndds[d_ndd[u]].add_edge(edge)\n",
    "\n",
    "    return dd, ndds\n"
   ]
  },
  {
   "cell_type": "code",
   "execution_count": 17,
   "metadata": {
    "collapsed": true
   },
   "outputs": [],
   "source": [
    "def solve_graph(G, cycle_cap=3, chain_cap=3):\n",
    "    dd, ndd = nx_to_ks(G)\n",
    "    cfg = _solver.kidney_ip.OptConfig(\n",
    "            dd,\n",
    "            ndd,\n",
    "            cycle_cap,\n",
    "            chain_cap)\n",
    "    soln  = _solver.solve_kep(cfg, \"picef\")\n",
    "    rew_cycles = sum(map(lambda x: len(x), soln.cycles))\n",
    "    rew_chains = sum(map(lambda x: len(x.vtx_indices), soln.chains))\n",
    "    reward = rew_cycles + rew_chains\n",
    "    \n",
    "    return reward"
   ]
  },
  {
   "cell_type": "code",
   "execution_count": 41,
   "metadata": {
    "collapsed": true
   },
   "outputs": [],
   "source": [
    "def make_graph_score_pair(rng):\n",
    "    gr = gen_random_graph(MODEL, rng)\n",
    "    score = solve_graph(gr)\n",
    "    return (gr, score)"
   ]
  },
  {
   "cell_type": "code",
   "execution_count": 44,
   "metadata": {
    "collapsed": true
   },
   "outputs": [],
   "source": [
    "dataset = [make_graph_score_pair(rng) for _ in range(100)]"
   ]
  },
  {
   "cell_type": "code",
   "execution_count": 69,
   "metadata": {
    "collapsed": true
   },
   "outputs": [],
   "source": [
    "def adjmat(gr):\n",
    "    return nx.adjacency_matrix(gr).toarray().astype('float32')"
   ]
  },
  {
   "cell_type": "code",
   "execution_count": 75,
   "metadata": {
    "collapsed": true
   },
   "outputs": [],
   "source": [
    "def zero_padded_adjmat(graph, size):\n",
    "    unpadded = adjmat(graph)\n",
    "    padded = np.zeros((size, size))\n",
    "    padded[0:unpadded.shape[0], 0:unpadded.shape[1]] = unpadded\n",
    "    return padded\n",
    "    "
   ]
  },
  {
   "cell_type": "code",
   "execution_count": null,
   "metadata": {
    "collapsed": true
   },
   "outputs": [],
   "source": []
  }
 ],
 "metadata": {
  "kernelspec": {
   "display_name": "Python 3",
   "language": "python",
   "name": "python3"
  },
  "language_info": {
   "codemirror_mode": {
    "name": "ipython",
    "version": 3
   },
   "file_extension": ".py",
   "mimetype": "text/x-python",
   "name": "python",
   "nbconvert_exporter": "python",
   "pygments_lexer": "ipython3",
   "version": "3.6.3"
  }
 },
 "nbformat": 4,
 "nbformat_minor": 2
}
